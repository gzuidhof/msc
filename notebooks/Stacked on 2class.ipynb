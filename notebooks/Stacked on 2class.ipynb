{
 "cells": [
  {
   "cell_type": "markdown",
   "metadata": {
    "collapsed": true
   },
   "source": [
    "First we will train the *wide residual networks*, on which we can later stack another network. "
   ]
  },
  {
   "cell_type": "code",
   "execution_count": 1,
   "metadata": {
    "collapsed": false
   },
   "outputs": [],
   "source": [
    "import os\n",
    "cur_dir = os.getcwd()"
   ]
  },
  {
   "cell_type": "code",
   "execution_count": null,
   "metadata": {
    "collapsed": false
   },
   "outputs": [],
   "source": [
    "#%load /mnt/rdstorage1/Userdata/Guido/msc/notebooks/../config/stack_on_2class_768.ini"
   ]
  },
  {
   "cell_type": "code",
   "execution_count": 3,
   "metadata": {
    "collapsed": false,
    "scrolled": true
   },
   "outputs": [
    {
     "name": "stdout",
     "output_type": "stream",
     "text": [
      "/mnt/rdstorage1/Userdata/Guido/msc/src/sampler\n",
      "Loaded configurations from (in order) ['../../config/default.ini', '../../config/stack_on_2class_768.ini']\n",
      "--------------------\n",
      "N CLASSES: 3\n",
      "DATA FOLDER: /mnt/SSD/guido/Level1_LargePatch_Aug17\n",
      "--------------------\n",
      "\n",
      "\n",
      "Now preparing sampler train...\n",
      "Out file: /mnt/SSD/guido/samplers/samplers_train_768x768_nclass_3.pkl.gz\n",
      "Amount per class (total): 5097 1092 2307\n",
      "Subsets: (None, None, None)\n",
      "100%|███████████████████████████████████████| 8496/8496 [07:38<00:00, 18.52it/s]\n",
      "Now saving to file (will take a while)..\n",
      "\n",
      "\n",
      "Now preparing sampler train_mini...\n",
      "Out file: /mnt/SSD/guido/samplers/samplers_train_mini_768x768_nclass_3.pkl.gz\n",
      "Amount per class (total): 5097 1092 2307\n",
      "Subsets: (30, 30, 30)\n",
      "100%|███████████████████████████████████████████| 90/90 [00:04<00:00, 18.09it/s]\n",
      "Now saving to file (will take a while)..\n",
      "\n",
      "\n",
      "Now preparing sampler validation...\n",
      "Out file: /mnt/SSD/guido/samplers/samplers_validation_768x768_nclass_3.pkl.gz\n",
      "Amount per class (total): 795 151 432\n",
      "Subsets: (None, None, None)\n",
      "100%|███████████████████████████████████████| 1378/1378 [01:12<00:00, 14.59it/s]\n",
      "Now saving to file (will take a while)..\n",
      "\n",
      "\n",
      "Now preparing sampler validation_mini...\n",
      "Out file: /mnt/SSD/guido/samplers/samplers_validation_mini_768x768_nclass_3.pkl.gz\n",
      "Amount per class (total): 795 151 432\n",
      "Subsets: (30, 30, 30)\n",
      "100%|███████████████████████████████████████████| 90/90 [00:05<00:00, 16.50it/s]\n",
      "Now saving to file (will take a while)..\n",
      "\u001b[0m"
     ]
    }
   ],
   "source": [
    "%cd {cur_dir}/../src/sampler\n",
    "!python wsi_prepare_masks.py stack_on_2class_768"
   ]
  },
  {
   "cell_type": "code",
   "execution_count": null,
   "metadata": {
    "collapsed": false,
    "scrolled": true
   },
   "outputs": [
    {
     "name": "stdout",
     "output_type": "stream",
     "text": [
      "/mnt/rdstorage1/Userdata/Guido/msc/src\n",
      "Couldn't import dot_parser, loading of dot files will not be possible.\n",
      "Using gpu device 2: GeForce GTX TITAN X (CNMeM is enabled with initial size: 95.0% of memory, cuDNN 5005)\n",
      "Loaded configurations from (in order) ['/mnt/rdstorage1/Userdata/Guido/msc/src/../config/default.ini', '/mnt/rdstorage1/Userdata/Guido/msc/src/../config/stack_on_2class_768.ini']\n",
      "OpenCV 2 NOT AVAILABLE, using skimage/scipy.ndimage instead\n",
      "[info]\n",
      "experiment = WRN stacked on 2 class\n",
      "name = stack_on_2class_768\n",
      "config_file = ['/mnt/rdstorage1/Userdata/Guido/msc/src/../config/default.ini', '/mnt/rdstorage1/Userdata/Guido/msc/src/../config/stack_on_2class_768.ini']\n",
      "model_id = 1475594616_stack_on_2class_768\n",
      "\n",
      "[dataset]\n",
      "pixels = 768\n",
      "n_classes = 3\n",
      "stack_on_n_classes = 2\n",
      "channels = 3\n",
      "data_level = 0\n",
      "subset = None\n",
      "subset_train = 0\n",
      "subset_validation = 0\n",
      "filenames_train = None\n",
      "filenames_validation = None :NOT USED\n",
      "data_folder = /mnt/SSD/guido/Level1_LargePatch_Aug17\n",
      "sampler_folder = /mnt/SSD/guido/samplers\n",
      "\n",
      "[network]\n",
      "architecture = resnet\n",
      "input_size = 768\n",
      "depth = 4\n",
      "branching_factor = 2\n",
      "batch_normalization = True\n",
      "batch_normalization_alpha = 0.1\n",
      "dropout = 0.0\n",
      "spatial_dropout = 0\n",
      "gaussian_noise = 0\n",
      "\n",
      "[updates]\n",
      "optimization = -\n",
      "learning_rate = 0.005\n",
      "momentum = 0.9\n",
      "l2_lambda = 0.0000\n",
      "batch_size_train = 18\n",
      "batch_size_validation = 40\n",
      "n_epochs = 500\n",
      "milestone_acc_epsilon = 0.0005\n",
      "milestone_tollerance = 8\n",
      "milestone_inc_factor = 1.2\n",
      "lr_decay = 0.2\n",
      "epoch_samples_train = 100\n",
      "epoch_samples_validation = 80\n",
      "\n",
      "[preprocessing]\n",
      "random_crop = 0\n",
      "\n",
      "[normalization]\n",
      "zero_center = True\n",
      "mean_pixel = 0.79704494411170501 0.61885510553571943 0.71202771615037175\n",
      "\n",
      "[augmentation]\n",
      "augment = True\n",
      "flip = True\n",
      "zoom = 0\n",
      "rotation = 0\n",
      "rotation_90 = True\n",
      "translation = 0\n",
      "hue = 0.075\n",
      "saturation = 0.075\n",
      "value = 0.0\n",
      "\n",
      "[misc]\n",
      "multiprocess_load_augmentation = True\n",
      "n_workers_load_augmentation = 4\n",
      "save_every_n_epoch = 5\n",
      "\n",
      "\n",
      "Defining network\n",
      "Loading model\n",
      "Model  resnet_2class using folder ../models/1475364239_resnet_2class\n",
      "../models/1475364239_resnet_2class/1475364239_resnet_2class_epoch120.npz\n",
      "Found model ../models/1475364239_resnet_2class/1475364239_resnet_2class_epoch120.npz\n",
      "Stacking on top of ../models/1475364239_resnet_2class/1475364239_resnet_2class_best_epoch40.npz\n",
      "Model file ../models/1475364239_resnet_2class/1475364239_resnet_2class_best_epoch40.npz\n",
      "(None, 192, 12, 12)\n",
      "Compiling network\n"
     ]
    }
   ],
   "source": [
    "%cd {cur_dir}/../src\n",
    "!THEANO_FLAGS=${THEANO_FLAGS},lib.cnmem=1 python resnet_trainer_stacked.py stack_on_2class_768"
   ]
  },
  {
   "cell_type": "code",
   "execution_count": null,
   "metadata": {
    "collapsed": false
   },
   "outputs": [],
   "source": []
  },
  {
   "cell_type": "code",
   "execution_count": null,
   "metadata": {
    "collapsed": false
   },
   "outputs": [],
   "source": []
  },
  {
   "cell_type": "code",
   "execution_count": null,
   "metadata": {
    "collapsed": false,
    "scrolled": true
   },
   "outputs": [],
   "source": []
  },
  {
   "cell_type": "code",
   "execution_count": null,
   "metadata": {
    "collapsed": true
   },
   "outputs": [],
   "source": []
  }
 ],
 "metadata": {
  "kernelspec": {
   "display_name": "Python 2",
   "language": "python",
   "name": "python2"
  },
  "language_info": {
   "codemirror_mode": {
    "name": "ipython",
    "version": 2
   },
   "file_extension": ".py",
   "mimetype": "text/x-python",
   "name": "python",
   "nbconvert_exporter": "python",
   "pygments_lexer": "ipython2",
   "version": "2.7.6"
  }
 },
 "nbformat": 4,
 "nbformat_minor": 0
}
