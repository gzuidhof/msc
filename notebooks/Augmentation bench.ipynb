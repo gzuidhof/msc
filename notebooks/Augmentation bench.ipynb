{
 "cells": [
  {
   "cell_type": "code",
   "execution_count": null,
   "metadata": {
    "collapsed": true
   },
   "outputs": [],
   "source": [
    "def augment(images):\n",
    "    pixels = images[0].shape[1]\n",
    "    center = pixels/2.-0.5\n",
    "\n",
    "    random_flip_x = 0\n",
    "    random_flip_y = 1\n",
    "\n",
    "    # Translation shift\n",
    "    shift_x = 0\n",
    "    shift_y = 0\n",
    "    rotation_degrees = 0\n",
    "    zoom_factor = np.random.uniform(*P.AUGMENTATION_PARAMS['zoom_range'])\n",
    "    n_rot_90 = np.random.choice(P.AUGMENTATION_PARAMS['rotation_90'])\n",
    "\n",
    "    h = np.random.uniform(*P.AUGMENTATION_PARAMS['hue_range'])\n",
    "    s = np.random.uniform(*P.AUGMENTATION_PARAMS['saturation_range'])\n",
    "    v = np.random.uniform(*P.AUGMENTATION_PARAMS['value_range'])\n",
    "    \n",
    "    if CV2_AVAILABLE:\n",
    "        M = cv2.getRotationMatrix2D((center, center), rotation_degrees, zoom_factor)\n",
    "        M[0, 2] += shift_x\n",
    "        M[1, 2] += shift_y\n",
    "    \n",
    "    for i in range(len(images)):\n",
    "        image = images[i]\n",
    "\n",
    "        if h != 0 and s != 0 and v != 0:\n",
    "            image = hsv_augment(image, h,s,v)\n",
    "\n",
    "        if CV2_AVAILABLE:\n",
    "            image = cv2.warpAffine(image, M, (pixels, pixels))\n",
    "            if random_flip_x:\n",
    "                image = cv2.flip(image, 0)\n",
    "            if random_flip_y:\n",
    "                image = cv2.flip(image, 1)\n",
    "        else:\n",
    "            if rotation_degrees > 0:\n",
    "                rotate(image, rotation_degrees, reshape=False, output=image)\n",
    "            #image = zoom(image, [1,zoom_factor,zoom_factor])\n",
    "            if shift_x > 0 or shift_y > 0:\n",
    "                shift(image, [0,shift_x,shift_y], output=image)\n",
    "            \n",
    "            if random_flip_x:\n",
    "                image = flip_axis(image, 1)\n",
    "            if random_flip_y:\n",
    "                image = flip_axis(image, 2)\n",
    "\n",
    "            if n_rot_90 > 0:\n",
    "                image = np.rot90(image.transpose(1,2,0), n_rot_90).transpose(2,0,1)\n",
    "        \n",
    "        images[i] = image\n",
    "\n",
    "    images = crop(images, P.INPUT_SIZE)\n",
    "    return images\n"
   ]
  },
  {
   "cell_type": "code",
   "execution_count": 9,
   "metadata": {
    "collapsed": false
   },
   "outputs": [
    {
     "name": "stderr",
     "output_type": "stream",
     "text": [
      "100%|██████████| 100000/100000 [00:00<00:00, 313532.58it/s]\n",
      "100%|██████████| 100000/100000 [00:00<00:00, 451959.26it/s]\n"
     ]
    }
   ],
   "source": [
    "import numpy as np\n",
    "from tqdm import tqdm\n",
    "\n",
    "orig = np.random.rand(512,512,3)\n",
    "\n",
    "\n",
    "res = []\n",
    "\n",
    "for x in tqdm(range(100000)):\n",
    "    image = np.rot90(orig.transpose(1,2,0), 1).transpose(2,0,1)\n",
    "    res.append(image)\n",
    "    \n",
    "for x in tqdm(range(100000)):\n",
    "    image = np.rot90(orig.transpose(1,2,0), 1).transpose(2,0,1)    \n"
   ]
  },
  {
   "cell_type": "code",
   "execution_count": null,
   "metadata": {
    "collapsed": true
   },
   "outputs": [],
   "source": []
  }
 ],
 "metadata": {
  "kernelspec": {
   "display_name": "Python 2",
   "language": "python",
   "name": "python2"
  },
  "language_info": {
   "codemirror_mode": {
    "name": "ipython",
    "version": 2
   },
   "file_extension": ".py",
   "mimetype": "text/x-python",
   "name": "python",
   "nbconvert_exporter": "python",
   "pygments_lexer": "ipython2",
   "version": "2.7.6"
  }
 },
 "nbformat": 4,
 "nbformat_minor": 0
}
