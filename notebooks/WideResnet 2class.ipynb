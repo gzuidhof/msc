{
 "cells": [
  {
   "cell_type": "markdown",
   "metadata": {
    "collapsed": true
   },
   "source": [
    "First we will train the *wide residual networks*, on which we can later stack another network. "
   ]
  },
  {
   "cell_type": "code",
   "execution_count": 1,
   "metadata": {
    "collapsed": false
   },
   "outputs": [],
   "source": [
    "import os\n",
    "cur_dir = os.getcwd()"
   ]
  },
  {
   "cell_type": "code",
   "execution_count": null,
   "metadata": {
    "collapsed": false
   },
   "outputs": [],
   "source": [
    "# %load {cur_dir}/../config/2class_wide_resnet.ini"
   ]
  },
  {
   "cell_type": "code",
   "execution_count": null,
   "metadata": {
    "collapsed": false
   },
   "outputs": [],
   "source": [
    "%cd {cur_dir}/../src/sampler\n",
    "!python wsi_prepare_masks.py 2class_wide_resnet"
   ]
  },
  {
   "cell_type": "code",
   "execution_count": null,
   "metadata": {
    "collapsed": false,
    "scrolled": true
   },
   "outputs": [
    {
     "name": "stdout",
     "output_type": "stream",
     "text": [
      "/mnt/rdstorage1/Userdata/Guido/msc/src\n",
      "Couldn't import dot_parser, loading of dot files will not be possible.\n",
      "ERROR (theano.sandbox.cuda): ERROR: Not using GPU. Initialisation of device 1 failed:\n",
      "initCnmem: cnmemInit call failed! Reason=CNMEM_STATUS_OUT_OF_MEMORY. numdev=1\n",
      "\n",
      "Using gpu device 0: GeForce GTX TITAN X (CNMeM is enabled with initial size: 95.0% of memory, cuDNN 5005)\n",
      "Loaded configurations from (in order) ['/mnt/rdstorage1/Userdata/Guido/msc/src/../config/default.ini', '/mnt/rdstorage1/Userdata/Guido/msc/src/../config/2class_wide_resnet.ini']\n",
      "OpenCV 2 NOT AVAILABLE, using skimage/scipy.ndimage instead\n",
      "Loading train samplers\n",
      "Loading validation samplers\n",
      "Loading samplers took 97.3213009834 seconds.\n",
      "[info]\n",
      "experiment = Wide Residual Network 2 class network.\n",
      "name = resnet_2class\n",
      "config_file = ['/mnt/rdstorage1/Userdata/Guido/msc/src/../config/default.ini', '/mnt/rdstorage1/Userdata/Guido/msc/src/../config/2class_wide_resnet.ini']\n",
      "model_id = 1475364239_resnet_2class\n",
      "\n",
      "[dataset]\n",
      "pixels = 224\n",
      "n_classes = 2\n",
      "channels = 3\n",
      "data_level = 0\n",
      "subset = None\n",
      "subset_train = 0\n",
      "subset_validation = 0\n",
      "filenames_train = None\n",
      "filenames_validation = None :NOT USED\n",
      "data_folder = /mnt/diskB/babak/dataset/CroppedAnnotations_Revisited3classL1\n",
      "sampler_folder = /mnt/diskB/guido/samplers\n",
      "\n",
      "[network]\n",
      "architecture = resnet\n",
      "input_size = 224\n",
      "depth = 4\n",
      "branching_factor = 2\n",
      "batch_normalization = True\n",
      "batch_normalization_alpha = 0.1\n",
      "dropout = 0.0\n",
      "spatial_dropout = 0\n",
      "gaussian_noise = 0\n",
      "\n",
      "[updates]\n",
      "optimization = -\n",
      "learning_rate = 0.05\n",
      "momentum = 0.9\n",
      "l2_lambda = 0.0000\n",
      "batch_size_train = 22\n",
      "batch_size_validation = 128\n",
      "n_epochs = 500\n",
      "milestone_acc_epsilon = 0.0005\n",
      "milestone_tollerance = 8\n",
      "milestone_inc_factor = 1.2\n",
      "lr_decay = 0.2\n",
      "epoch_samples_train = 300\n",
      "epoch_samples_validation = 200\n",
      "\n",
      "[preprocessing]\n",
      "random_crop = 0\n",
      "\n",
      "[normalization]\n",
      "zero_center = True\n",
      "mean_pixel = 0.79704494411170501 0.61885510553571943 0.71202771615037175\n",
      "\n",
      "[augmentation]\n",
      "augment = True\n",
      "flip = True\n",
      "zoom = 0\n",
      "rotation = 0\n",
      "rotation_90 = True\n",
      "translation = 0\n",
      "hue = 0.075\n",
      "saturation = 0.075\n",
      "value = 0.0\n",
      "\n",
      "[misc]\n",
      "multiprocess_load_augmentation = True\n",
      "n_workers_load_augmentation = 6\n",
      "save_every_n_epoch = 5\n",
      "\n",
      "\n",
      "Defining network\n"
     ]
    }
   ],
   "source": [
    "%cd {cur_dir}/../src\n",
    "!THEANO_FLAGS=${THEANO_FLAGS},lib.cnmem=1 python resnet_trainer.py 2class_wide_resnet"
   ]
  },
  {
   "cell_type": "code",
   "execution_count": null,
   "metadata": {
    "collapsed": false
   },
   "outputs": [],
   "source": []
  },
  {
   "cell_type": "code",
   "execution_count": null,
   "metadata": {
    "collapsed": false
   },
   "outputs": [],
   "source": []
  },
  {
   "cell_type": "code",
   "execution_count": null,
   "metadata": {
    "collapsed": false,
    "scrolled": true
   },
   "outputs": [],
   "source": []
  },
  {
   "cell_type": "code",
   "execution_count": null,
   "metadata": {
    "collapsed": true
   },
   "outputs": [],
   "source": []
  }
 ],
 "metadata": {
  "kernelspec": {
   "display_name": "Python 2",
   "language": "python",
   "name": "python2"
  },
  "language_info": {
   "codemirror_mode": {
    "name": "ipython",
    "version": 2
   },
   "file_extension": ".py",
   "mimetype": "text/x-python",
   "name": "python",
   "nbconvert_exporter": "python",
   "pygments_lexer": "ipython2",
   "version": "2.7.6"
  }
 },
 "nbformat": 4,
 "nbformat_minor": 0
}
