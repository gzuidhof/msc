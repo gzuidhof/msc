{
 "cells": [
  {
   "cell_type": "code",
   "execution_count": 1,
   "metadata": {
    "collapsed": false
   },
   "outputs": [
    {
     "name": "stdout",
     "output_type": "stream",
     "text": [
      "Loaded configurations from (in order) ['../src/../config/default.ini', '../src/../config/notebook.ini']\n",
      "OpenCV 2 NOT AVAILABLE, using skimage/scipy.ndimage instead\n"
     ]
    }
   ],
   "source": [
    "%matplotlib inline\n",
    "import sys\n",
    "sys.path.append('../src')\n",
    "from params import params as P\n",
    "import numpy as np\n",
    "import patch_sampling\n",
    "from parallel import ParallelBatchIterator\n",
    "np.random.seed(1)\n",
    "P.DATA_LEVEL=1"
   ]
  },
  {
   "cell_type": "code",
   "execution_count": 2,
   "metadata": {
    "collapsed": false
   },
   "outputs": [
    {
     "name": "stderr",
     "output_type": "stream",
     "text": [
      "\r",
      "  0%|          | 0/77 [00:00<?, ?it/s]"
     ]
    },
    {
     "name": "stdout",
     "output_type": "stream",
     "text": [
      "Loading validation masks\n",
      "/media/diskB/guido/BreastDataset/Benign_Validation/T10-20193_mix_cropped_23.tif\n"
     ]
    },
    {
     "name": "stderr",
     "output_type": "stream",
     "text": [
      "  4%|▍         | 3/77 [00:00<00:16,  4.46it/s]"
     ]
    },
    {
     "name": "stdout",
     "output_type": "stream",
     "text": [
      "/media/diskB/guido/BreastDataset/Benign_Validation/T13-01371_fibroadenoma_cropped_11.tif\n",
      "/media/diskB/guido/BreastDataset/Benign_Validation/T10-20910_fibrocystic_cropped_0.tif\n",
      "/media/diskB/guido/BreastDataset/Benign_Validation/T11-26044_ductHyperplasia_cropped_3.tif\n"
     ]
    },
    {
     "name": "stderr",
     "output_type": "stream",
     "text": [
      "  6%|▋         | 5/77 [00:00<00:13,  5.34it/s]"
     ]
    },
    {
     "name": "stdout",
     "output_type": "stream",
     "text": [
      "/media/diskB/guido/BreastDataset/Benign_Validation/T11-26044_ductHyperplasia_cropped_17.tif\n",
      "/media/diskB/guido/BreastDataset/Benign_Validation/T10-20910_fibrocystic_cropped_7.tif\n",
      "/media/diskB/guido/BreastDataset/Benign_Validation/T10-20193_mix_cropped_16.tif\n"
     ]
    },
    {
     "name": "stderr",
     "output_type": "stream",
     "text": [
      "\r",
      "  9%|▉         | 7/77 [00:00<00:10,  6.44it/s]"
     ]
    },
    {
     "name": "stdout",
     "output_type": "stream",
     "text": [
      "/media/diskB/guido/BreastDataset/Benign_Validation/T12-04771_hamartoma_cropped_0.tif\n"
     ]
    },
    {
     "name": "stderr",
     "output_type": "stream",
     "text": [
      "\r",
      " 10%|█         | 8/77 [00:01<00:28,  2.44it/s]"
     ]
    },
    {
     "name": "stdout",
     "output_type": "stream",
     "text": [
      "/media/diskB/guido/BreastDataset/Benign_Validation/T12-24017_mix_cropped_13.tif\n"
     ]
    },
    {
     "name": "stderr",
     "output_type": "stream",
     "text": [
      " 14%|█▍        | 11/77 [00:02<00:19,  3.32it/s]"
     ]
    },
    {
     "name": "stdout",
     "output_type": "stream",
     "text": [
      "/media/diskB/guido/BreastDataset/Benign_Validation/T12-25727-I3-1_cropped_6.tif\n",
      "/media/diskB/guido/BreastDataset/Benign_Validation/T11-26044_ductHyperplasia_cropped_6.tif\n",
      "/media/diskB/guido/BreastDataset/Benign_Validation/T13-03894_fibroadenoma_cropped_3.tif\n"
     ]
    },
    {
     "name": "stderr",
     "output_type": "stream",
     "text": [
      "\r",
      " 16%|█▌        | 12/77 [00:02<00:17,  3.72it/s]"
     ]
    },
    {
     "name": "stdout",
     "output_type": "stream",
     "text": [
      "/media/diskB/guido/BreastDataset/Benign_Validation/T11-6122-I2-1_cropped_10.tif\n"
     ]
    },
    {
     "name": "stderr",
     "output_type": "stream",
     "text": [
      " 18%|█▊        | 14/77 [00:03<00:16,  3.90it/s]"
     ]
    },
    {
     "name": "stdout",
     "output_type": "stream",
     "text": [
      "/media/diskB/guido/BreastDataset/Benign_Validation/T12-28381-I2-1_cropped_0.tif\n",
      "/media/diskB/guido/BreastDataset/Benign_Validation/T12-16188_fibrosis_cropped_6.tif\n",
      "/media/diskB/guido/BreastDataset/Benign_Validation/T11-6122-I2-1_cropped_27.tif\n"
     ]
    },
    {
     "name": "stderr",
     "output_type": "stream",
     "text": [
      "\r",
      " 22%|██▏       | 17/77 [00:03<00:11,  5.09it/s]"
     ]
    },
    {
     "name": "stdout",
     "output_type": "stream",
     "text": [
      "/media/diskB/guido/BreastDataset/Benign_Validation/T12-04771_hamartoma_cropped_19.tif\n",
      "/media/diskB/guido/BreastDataset/Benign_Validation/T11-6122-I2-1_cropped_9.tif\n"
     ]
    },
    {
     "name": "stderr",
     "output_type": "stream",
     "text": [
      "\r",
      " 23%|██▎       | 18/77 [00:03<00:10,  5.46it/s]"
     ]
    },
    {
     "name": "stdout",
     "output_type": "stream",
     "text": [
      "/media/diskB/guido/BreastDataset/Benign_Validation/T10-17791_fibrosis_cropped_3.tif\n",
      "/media/diskB/guido/BreastDataset/Benign_Validation/T12-04771_hamartoma_cropped_2.tif\n"
     ]
    },
    {
     "name": "stderr",
     "output_type": "stream",
     "text": [
      "\r",
      " 26%|██▌       | 20/77 [00:04<00:13,  4.13it/s]"
     ]
    },
    {
     "name": "stdout",
     "output_type": "stream",
     "text": [
      "/media/diskB/guido/BreastDataset/Benign_Validation/T10-20910_fibrocystic_cropped_6.tif\n",
      "/media/diskB/guido/BreastDataset/Benign_Validation/T12-24017_mix_cropped_4.tif\n"
     ]
    },
    {
     "name": "stderr",
     "output_type": "stream",
     "text": [
      "\r",
      " 29%|██▊       | 22/77 [00:04<00:13,  4.09it/s]"
     ]
    },
    {
     "name": "stdout",
     "output_type": "stream",
     "text": [
      "/media/diskB/guido/BreastDataset/Benign_Validation/T12-24017_mix_cropped_0.tif\n"
     ]
    },
    {
     "name": "stderr",
     "output_type": "stream",
     "text": [
      " 31%|███       | 24/77 [00:05<00:14,  3.64it/s]"
     ]
    },
    {
     "name": "stdout",
     "output_type": "stream",
     "text": [
      "/media/diskB/guido/BreastDataset/Benign_Validation/T11-6122-I2-1_cropped_39.tif\n",
      "/media/diskB/guido/BreastDataset/Benign_Validation/T12-04771_hamartoma_cropped_3.tif\n"
     ]
    },
    {
     "name": "stderr",
     "output_type": "stream",
     "text": [
      "\r",
      " 32%|███▏      | 25/77 [00:06<00:34,  1.53it/s]"
     ]
    },
    {
     "name": "stdout",
     "output_type": "stream",
     "text": [
      "/media/diskB/guido/BreastDataset/Benign_Validation/T12-06521_ductectasia_cropped_1.tif\n"
     ]
    },
    {
     "name": "stderr",
     "output_type": "stream",
     "text": [
      "\r",
      " 34%|███▍      | 26/77 [00:07<00:30,  1.67it/s]"
     ]
    },
    {
     "name": "stdout",
     "output_type": "stream",
     "text": [
      "/media/diskB/guido/BreastDataset/Benign_Validation/T12-28381-I2-1_cropped_11.tif\n",
      "/media/diskB/guido/BreastDataset/Benign_Validation/T10-21054-I2-1_cropped_4.tif\n"
     ]
    },
    {
     "name": "stderr",
     "output_type": "stream",
     "text": [
      " 39%|███▉      | 30/77 [00:07<00:16,  2.78it/s]"
     ]
    },
    {
     "name": "stdout",
     "output_type": "stream",
     "text": [
      "/media/diskB/guido/BreastDataset/Benign_Validation/T11-6122-I2-1_cropped_32.tif\n",
      "/media/diskB/guido/BreastDataset/Benign_Validation/T10-21054-I2-1_cropped_3.tif\n",
      "/media/diskB/guido/BreastDataset/Benign_Validation/T12-28381-I2-1_cropped_6.tif\n",
      "/media/diskB/guido/BreastDataset/Benign_Validation/T12-24017_mix_cropped_21.tif\n"
     ]
    },
    {
     "name": "stderr",
     "output_type": "stream",
     "text": [
      "\r",
      " 42%|████▏     | 32/77 [00:08<00:14,  3.11it/s]"
     ]
    },
    {
     "name": "stdout",
     "output_type": "stream",
     "text": [
      "/media/diskB/guido/BreastDataset/DCIS_Validation/T11-15708-I-4-1_cropped_2.tif\n"
     ]
    },
    {
     "name": "stderr",
     "output_type": "stream",
     "text": [
      " 45%|████▌     | 35/77 [00:09<00:13,  3.19it/s]"
     ]
    },
    {
     "name": "stdout",
     "output_type": "stream",
     "text": [
      "/media/diskB/guido/BreastDataset/DCIS_Validation/T14-25889-I-1_cropped_21.tif\n",
      "/media/diskB/guido/BreastDataset/DCIS_Validation/T10-25493-I-7-1-gr3_cropped_10.tif\n",
      "/media/diskB/guido/BreastDataset/DCIS_Validation/T14-11098-I-6_cropped_3.tif\n",
      "/media/diskB/guido/BreastDataset/DCIS_Validation/T14-30052-I-1_cropped_0.tif\n",
      "/media/diskB/guido/BreastDataset/DCIS_Validation/T14-25889-I-1_cropped_4.tif\n"
     ]
    },
    {
     "name": "stderr",
     "output_type": "stream",
     "text": [
      "\r",
      " 49%|████▉     | 38/77 [00:10<00:13,  2.93it/s]"
     ]
    },
    {
     "name": "stdout",
     "output_type": "stream",
     "text": [
      "/media/diskB/guido/BreastDataset/DCIS_Validation/T14-25889-I-1_cropped_5.tif\n",
      "/media/diskB/guido/BreastDataset/DCIS_Validation/T14-25889-I-1_cropped_15.tif\n"
     ]
    },
    {
     "name": "stderr",
     "output_type": "stream",
     "text": [
      "\r",
      " 52%|█████▏    | 40/77 [00:10<00:11,  3.30it/s]"
     ]
    },
    {
     "name": "stdout",
     "output_type": "stream",
     "text": [
      "/media/diskB/guido/BreastDataset/DCIS_Validation/T13-128-I3-1_cropped_11.tif\n",
      "/media/diskB/guido/BreastDataset/DCIS_Validation/T11-14123-I-2-1_cropped_6.tif\n"
     ]
    },
    {
     "name": "stderr",
     "output_type": "stream",
     "text": [
      "\r",
      " 55%|█████▍    | 42/77 [00:11<00:08,  4.05it/s]"
     ]
    },
    {
     "name": "stdout",
     "output_type": "stream",
     "text": [
      "/media/diskB/guido/BreastDataset/DCIS_Validation/T14-03606-I-1_cropped_7.tif\n",
      "/media/diskB/guido/BreastDataset/DCIS_Validation/T14-03606-I-1_cropped_1.tif\n"
     ]
    },
    {
     "name": "stderr",
     "output_type": "stream",
     "text": [
      " 60%|█████▉    | 46/77 [00:11<00:05,  5.97it/s]"
     ]
    },
    {
     "name": "stdout",
     "output_type": "stream",
     "text": [
      "/media/diskB/guido/BreastDataset/DCIS_Validation/T10-09393-I-7-1-gr2_cropped_1.tif\n",
      "/media/diskB/guido/BreastDataset/DCIS_Validation/T10-25493-I-7-1-gr3_cropped_7.tif\n",
      "/media/diskB/guido/BreastDataset/IDC_validation/T12-24929-I-3-1-gr2_cropped_39.tif\n",
      "/media/diskB/guido/BreastDataset/IDC_validation/T12-24929-I-3-1-gr2_cropped_20.tif\n"
     ]
    },
    {
     "name": "stderr",
     "output_type": "stream",
     "text": [
      "\r",
      " 62%|██████▏   | 48/77 [00:11<00:03,  7.49it/s]"
     ]
    },
    {
     "name": "stdout",
     "output_type": "stream",
     "text": [
      "/media/diskB/guido/BreastDataset/IDC_validation/T11-09847-I-5-1_cropped_51.tif\n",
      "/media/diskB/guido/BreastDataset/IDC_validation/T12-24929-I-3-1-gr2_cropped_4.tif\n"
     ]
    },
    {
     "name": "stderr",
     "output_type": "stream",
     "text": [
      "\r",
      " 65%|██████▍   | 50/77 [00:13<00:09,  2.90it/s]"
     ]
    },
    {
     "name": "stdout",
     "output_type": "stream",
     "text": [
      "/media/diskB/guido/BreastDataset/IDC_validation/T11-09847-I-5-1_cropped_28.tif\n",
      "/media/diskB/guido/BreastDataset/IDC_validation/T11-16331-I-6-1_cropped_26.tif\n",
      "/media/diskB/guido/BreastDataset/IDC_validation/T12-24929-I-3-1-gr2_cropped_37.tif\n"
     ]
    },
    {
     "name": "stderr",
     "output_type": "stream",
     "text": [
      "\r",
      " 69%|██████▉   | 53/77 [00:13<00:06,  3.76it/s]"
     ]
    },
    {
     "name": "stdout",
     "output_type": "stream",
     "text": [
      "/media/diskB/guido/BreastDataset/IDC_validation/T13-1276-I26_cropped_28.tif\n",
      "/media/diskB/guido/BreastDataset/IDC_validation/T12-24929-I-3-1-gr2_cropped_12.tif\n"
     ]
    },
    {
     "name": "stderr",
     "output_type": "stream",
     "text": [
      " 74%|███████▍  | 57/77 [00:14<00:04,  4.29it/s]"
     ]
    },
    {
     "name": "stdout",
     "output_type": "stream",
     "text": [
      "/media/diskB/guido/BreastDataset/IDC_validation/T13-1960-I1-3_cropped_3.tif\n",
      "/media/diskB/guido/BreastDataset/IDC_validation/T13-2939-I10-1_cropped_37.tif\n",
      "/media/diskB/guido/BreastDataset/IDC_validation/T11-09847-I-5-1_cropped_55.tif\n",
      "/media/diskB/guido/BreastDataset/IDC_validation/T11-12288-I-12-1_cropped_1.tif\n"
     ]
    },
    {
     "name": "stderr",
     "output_type": "stream",
     "text": [
      "\r",
      " 77%|███████▋  | 59/77 [00:15<00:06,  2.76it/s]"
     ]
    },
    {
     "name": "stdout",
     "output_type": "stream",
     "text": [
      "/media/diskB/guido/BreastDataset/IDC_validation/T12-24929-I-3-1-gr2_cropped_32.tif\n"
     ]
    },
    {
     "name": "stderr",
     "output_type": "stream",
     "text": [
      "\r",
      " 78%|███████▊  | 60/77 [00:16<00:07,  2.14it/s]"
     ]
    },
    {
     "name": "stdout",
     "output_type": "stream",
     "text": [
      "/media/diskB/guido/BreastDataset/IDC_validation/T11-09847-I-5-1_cropped_36.tif\n"
     ]
    },
    {
     "name": "stderr",
     "output_type": "stream",
     "text": [
      "\r",
      " 79%|███████▉  | 61/77 [00:17<00:10,  1.47it/s]"
     ]
    },
    {
     "name": "stdout",
     "output_type": "stream",
     "text": [
      "/media/diskB/guido/BreastDataset/IDC_validation/T11-12288-I-12-1_cropped_16.tif\n"
     ]
    },
    {
     "name": "stderr",
     "output_type": "stream",
     "text": [
      "\r",
      " 81%|████████  | 62/77 [00:19<00:12,  1.16it/s]"
     ]
    },
    {
     "name": "stdout",
     "output_type": "stream",
     "text": [
      "/media/diskB/guido/BreastDataset/IDC_validation/T10-11269-I-7-1_cropped_36.tif\n",
      "/media/diskB/guido/BreastDataset/IDC_validation/T10-11269-I-7-1_cropped_3.tif\n"
     ]
    },
    {
     "name": "stderr",
     "output_type": "stream",
     "text": [
      "\r",
      " 83%|████████▎ | 64/77 [00:19<00:08,  1.50it/s]"
     ]
    },
    {
     "name": "stdout",
     "output_type": "stream",
     "text": [
      "/media/diskB/guido/BreastDataset/IDC_validation/T12-24929-I-3-1-gr2_cropped_2.tif\n"
     ]
    },
    {
     "name": "stderr",
     "output_type": "stream",
     "text": [
      "\r",
      " 84%|████████▍ | 65/77 [00:21<00:12,  1.01s/it]"
     ]
    },
    {
     "name": "stdout",
     "output_type": "stream",
     "text": [
      "/media/diskB/guido/BreastDataset/IDC_validation/T10-11269-I-7-1_cropped_8.tif\n"
     ]
    },
    {
     "name": "stderr",
     "output_type": "stream",
     "text": [
      "\r",
      " 86%|████████▌ | 66/77 [00:23<00:16,  1.46s/it]"
     ]
    },
    {
     "name": "stdout",
     "output_type": "stream",
     "text": [
      "/media/diskB/guido/BreastDataset/IDC_validation/T11-09847-I-5-1_cropped_20.tif\n",
      "/media/diskB/guido/BreastDataset/IDC_validation/T10-11269-I-7-1_cropped_29.tif\n"
     ]
    },
    {
     "name": "stderr",
     "output_type": "stream",
     "text": [
      "\n"
     ]
    },
    {
     "ename": "IndexError",
     "evalue": "tuple index out of range",
     "output_type": "error",
     "traceback": [
      "\u001b[1;31m---------------------------------------------------------------------------\u001b[0m",
      "\u001b[1;31mIndexError\u001b[0m                                Traceback (most recent call last)",
      "\u001b[1;32m<ipython-input-2-2b6b09405d0c>\u001b[0m in \u001b[0;36m<module>\u001b[1;34m()\u001b[0m\n\u001b[1;32m----> 1\u001b[1;33m \u001b[0mtrain_generator\u001b[0m\u001b[1;33m,\u001b[0m \u001b[0mvalidation_generator\u001b[0m \u001b[1;33m=\u001b[0m \u001b[0mpatch_sampling\u001b[0m\u001b[1;33m.\u001b[0m\u001b[0mprepare_sampler\u001b[0m\u001b[1;33m(\u001b[0m\u001b[1;33m)\u001b[0m\u001b[1;33m\u001b[0m\u001b[0m\n\u001b[0m",
      "\u001b[1;32m/mnt/rdstorage1/Userdata/Guido/msc/src/patch_sampling.py\u001b[0m in \u001b[0;36mprepare_sampler\u001b[1;34m()\u001b[0m\n\u001b[0;32m    191\u001b[0m \u001b[1;33m\u001b[0m\u001b[0m\n\u001b[0;32m    192\u001b[0m     \u001b[1;32mprint\u001b[0m \u001b[1;34m\"Loading validation masks\"\u001b[0m\u001b[1;33m\u001b[0m\u001b[0m\n\u001b[1;32m--> 193\u001b[1;33m     \u001b[0mbatch_generator_lasagne_validation\u001b[0m \u001b[1;33m=\u001b[0m \u001b[0mprepare_lasagne_patch\u001b[0m\u001b[1;33m(\u001b[0m\u001b[0mrandom_evaluation_items\u001b[0m\u001b[1;33m,\u001b[0m \u001b[0mmsk_src\u001b[0m\u001b[1;33m,\u001b[0m \u001b[0mmultiprocess\u001b[0m\u001b[1;33m=\u001b[0m\u001b[0mTrue\u001b[0m\u001b[1;33m,\u001b[0m \u001b[0mprocesses\u001b[0m\u001b[1;33m=\u001b[0m\u001b[1;36m6\u001b[0m\u001b[1;33m)\u001b[0m\u001b[1;33m\u001b[0m\u001b[0m\n\u001b[0m\u001b[0;32m    194\u001b[0m     \u001b[0mvalidation_generator\u001b[0m \u001b[1;33m=\u001b[0m \u001b[0mpartial\u001b[0m\u001b[1;33m(\u001b[0m\u001b[0mgen\u001b[0m\u001b[1;33m,\u001b[0m \u001b[0mbatch_generator_lasagne\u001b[0m\u001b[1;33m=\u001b[0m\u001b[0mbatch_generator_lasagne_validation\u001b[0m\u001b[1;33m)\u001b[0m\u001b[1;33m\u001b[0m\u001b[0m\n\u001b[0;32m    195\u001b[0m \u001b[1;33m\u001b[0m\u001b[0m\n",
      "\u001b[1;32m/mnt/rdstorage1/Userdata/Guido/msc/src/patch_sampling.py\u001b[0m in \u001b[0;36mprepare_lasagne_patch\u001b[1;34m(random_train_items, msk_src, multiprocess, processes)\u001b[0m\n\u001b[0;32m     50\u001b[0m         \u001b[1;32mfor\u001b[0m \u001b[0mtra_fl\u001b[0m \u001b[1;32min\u001b[0m \u001b[0mtqdm\u001b[0m\u001b[1;33m(\u001b[0m\u001b[0mrandom_train_items\u001b[0m\u001b[1;33m)\u001b[0m\u001b[1;33m:\u001b[0m\u001b[1;33m\u001b[0m\u001b[0m\n\u001b[0;32m     51\u001b[0m             \u001b[1;32mprint\u001b[0m \u001b[0mtra_fl\u001b[0m\u001b[1;33m\u001b[0m\u001b[0m\n\u001b[1;32m---> 52\u001b[1;33m             \u001b[0mwsi\u001b[0m \u001b[1;33m=\u001b[0m \u001b[0mWholeSlideImageDataSource\u001b[0m\u001b[1;33m(\u001b[0m\u001b[0mtra_fl\u001b[0m\u001b[1;33m,\u001b[0m \u001b[1;33m(\u001b[0m\u001b[0mP\u001b[0m\u001b[1;33m.\u001b[0m\u001b[0mPIXELS\u001b[0m\u001b[1;33m,\u001b[0m \u001b[0mP\u001b[0m\u001b[1;33m.\u001b[0m\u001b[0mPIXELS\u001b[0m\u001b[1;33m)\u001b[0m\u001b[1;33m,\u001b[0m \u001b[0mP\u001b[0m\u001b[1;33m.\u001b[0m\u001b[0mDATA_LEVEL\u001b[0m\u001b[1;33m)\u001b[0m\u001b[1;33m\u001b[0m\u001b[0m\n\u001b[0m\u001b[0;32m     53\u001b[0m             \u001b[0mmsk\u001b[0m \u001b[1;33m=\u001b[0m \u001b[0mWholeSlideImageClassSampler\u001b[0m\u001b[1;33m(\u001b[0m\u001b[0mmsk_src\u001b[0m\u001b[1;33m[\u001b[0m\u001b[0mtra_fl\u001b[0m\u001b[1;33m]\u001b[0m\u001b[1;33m,\u001b[0m \u001b[1;36m0\u001b[0m\u001b[1;33m,\u001b[0m \u001b[0mnr_classes\u001b[0m\u001b[1;33m,\u001b[0m \u001b[0mlabels_dict\u001b[0m\u001b[1;33m)\u001b[0m\u001b[1;33m\u001b[0m\u001b[0m\n\u001b[0;32m     54\u001b[0m             \u001b[0mtra_wsi\u001b[0m\u001b[1;33m.\u001b[0m\u001b[0mappend\u001b[0m\u001b[1;33m(\u001b[0m\u001b[0mwsi\u001b[0m\u001b[1;33m)\u001b[0m\u001b[1;33m\u001b[0m\u001b[0m\n",
      "\u001b[1;32m/usr/local/lib/python2.7/dist-packages/deepr/data_processing/wsi_data_sources.py\u001b[0m in \u001b[0;36m__init__\u001b[1;34m(self, file_path, tile_size, level, requested_data_type)\u001b[0m\n\u001b[0;32m    243\u001b[0m         \u001b[0mself\u001b[0m\u001b[1;33m.\u001b[0m\u001b[0m_level_dimensions\u001b[0m \u001b[1;33m=\u001b[0m \u001b[0mself\u001b[0m\u001b[1;33m.\u001b[0m\u001b[0m_wsi\u001b[0m\u001b[1;33m.\u001b[0m\u001b[0mgetLevelDimensions\u001b[0m\u001b[1;33m(\u001b[0m\u001b[0mself\u001b[0m\u001b[1;33m.\u001b[0m\u001b[0m_level\u001b[0m\u001b[1;33m)\u001b[0m\u001b[1;33m\u001b[0m\u001b[0m\n\u001b[0;32m    244\u001b[0m         \u001b[0mself\u001b[0m\u001b[1;33m.\u001b[0m\u001b[0m_tile_size\u001b[0m \u001b[1;33m=\u001b[0m \u001b[0mtile_size\u001b[0m\u001b[1;33m\u001b[0m\u001b[0m\n\u001b[1;32m--> 245\u001b[1;33m         \u001b[1;32mif\u001b[0m \u001b[0mself\u001b[0m\u001b[1;33m.\u001b[0m\u001b[0m_level_dimensions\u001b[0m\u001b[1;33m[\u001b[0m\u001b[1;36m0\u001b[0m\u001b[1;33m]\u001b[0m \u001b[1;33m<\u001b[0m \u001b[0mself\u001b[0m\u001b[1;33m.\u001b[0m\u001b[0m_tile_size\u001b[0m\u001b[1;33m[\u001b[0m\u001b[1;36m0\u001b[0m\u001b[1;33m]\u001b[0m \u001b[1;32mor\u001b[0m \u001b[0mself\u001b[0m\u001b[1;33m.\u001b[0m\u001b[0m_level_dimensions\u001b[0m\u001b[1;33m[\u001b[0m\u001b[1;36m1\u001b[0m\u001b[1;33m]\u001b[0m \u001b[1;33m<\u001b[0m \u001b[0mself\u001b[0m\u001b[1;33m.\u001b[0m\u001b[0m_tile_size\u001b[0m\u001b[1;33m[\u001b[0m\u001b[1;36m1\u001b[0m\u001b[1;33m]\u001b[0m\u001b[1;33m:\u001b[0m\u001b[1;33m\u001b[0m\u001b[0m\n\u001b[0m\u001b[0;32m    246\u001b[0m           \u001b[1;32mraise\u001b[0m \u001b[0mValueError\u001b[0m\u001b[1;33m(\u001b[0m\u001b[1;34m\"Specified tile size is smaller than requested level size.\"\u001b[0m\u001b[1;33m)\u001b[0m\u001b[1;33m\u001b[0m\u001b[0m\n\u001b[0;32m    247\u001b[0m         \u001b[0mself\u001b[0m\u001b[1;33m.\u001b[0m\u001b[0m_level_downsample\u001b[0m \u001b[1;33m=\u001b[0m \u001b[0mself\u001b[0m\u001b[1;33m.\u001b[0m\u001b[0m_wsi\u001b[0m\u001b[1;33m.\u001b[0m\u001b[0mgetLevelDownsample\u001b[0m\u001b[1;33m(\u001b[0m\u001b[0mself\u001b[0m\u001b[1;33m.\u001b[0m\u001b[0m_level\u001b[0m\u001b[1;33m)\u001b[0m\u001b[1;33m\u001b[0m\u001b[0m\n",
      "\u001b[1;31mIndexError\u001b[0m: tuple index out of range"
     ]
    }
   ],
   "source": [
    "train_generator, validation_generator = patch_sampling.prepare_sampler()"
   ]
  },
  {
   "cell_type": "code",
   "execution_count": null,
   "metadata": {
    "collapsed": false
   },
   "outputs": [],
   "source": [
    "X_train = [64]*100\n",
    "\n",
    "X_val = [64]*100\n",
    "val_gen = ParallelBatchIterator(validation_generator, X_val, ordered=False,\n",
    "                                                batch_size=1,\n",
    "                                                multiprocess=False,\n",
    "                                                n_producers=2)\n"
   ]
  },
  {
   "cell_type": "code",
   "execution_count": null,
   "metadata": {
    "collapsed": false,
    "scrolled": false
   },
   "outputs": [],
   "source": [
    "%timeit\n",
    "from tqdm import tqdm\n",
    "import matplotlib.pyplot as plt\n",
    "from dataset import label_name\n",
    "\n",
    "\n",
    "for e in tqdm(range(2)):\n",
    "    \n",
    "    \n",
    "    \n",
    "    train_gen = ParallelBatchIterator(train_generator, X_train, ordered=False,\n",
    "                                                batch_size=1,\n",
    "                                                multiprocess=False,\n",
    "                                                n_producers=2)\n",
    "    for b,batch in enumerate(train_gen):\n",
    "        images, labels = batch\n",
    "\n",
    "        if b != 0:\n",
    "            continue\n",
    "            \n",
    "        #Shape into image_number,x,y,color\n",
    "        im = images.transpose(0,2,3,1)\n",
    "\n",
    "        im[:,:,:,0] += P.MEAN_PIXEL[0]\n",
    "        im[:,:,:,1] += P.MEAN_PIXEL[1]\n",
    "        im[:,:,:,2] += P.MEAN_PIXEL[2]\n",
    "\n",
    "\n",
    "\n",
    "        f, axarr = plt.subplots(4,4,figsize=(12,12))\n",
    "\n",
    "\n",
    "        for i in range(16):\n",
    "            x = i%4\n",
    "            y = i/4\n",
    "            axarr[y,x].imshow(im[i])\n",
    "            axarr[y,x].set_title(label_name(labels[i]))\n",
    "            axarr[y,x].axis('off')\n",
    "        \n",
    "        plt.subplots_adjust(wspace = -0.3, hspace=0.15)\n",
    "        plt.show()\n",
    "  "
   ]
  },
  {
   "cell_type": "code",
   "execution_count": null,
   "metadata": {
    "collapsed": false
   },
   "outputs": [],
   "source": [
    "np.random.seed(0)\n",
    "for batch in val_gen:\n",
    "    images, labels = batch\n",
    "    \n",
    "    \n",
    "        \n",
    "    im = images.transpose(0,2,3,1)\n",
    "\n",
    "    im[:,:,:,0] += P.MEAN_PIXEL[0]\n",
    "    im[:,:,:,1] += P.MEAN_PIXEL[1]\n",
    "    im[:,:,:,2] += P.MEAN_PIXEL[2]\n",
    "\n",
    "\n",
    "    \n",
    "    f, axarr = plt.subplots(4,4,figsize=(12,12))\n",
    "    \n",
    "\n",
    "    for i in range(16):\n",
    "        x = i%4\n",
    "        y = i/4\n",
    "        axarr[y,x].imshow(im[i])\n",
    "        axarr[y,x].set_title(label_name(labels[i]))\n",
    "        axarr[y,x].axis('off')\n",
    "\n",
    "    print np.mean(im)\n",
    "        \n",
    "    plt.subplots_adjust(wspace = -0.3, hspace=0.15)\n",
    "    plt.show()\n",
    "    "
   ]
  },
  {
   "cell_type": "code",
   "execution_count": null,
   "metadata": {
    "collapsed": true
   },
   "outputs": [],
   "source": []
  }
 ],
 "metadata": {
  "anaconda-cloud": {},
  "kernelspec": {
   "display_name": "Python 2",
   "language": "python",
   "name": "python2"
  },
  "language_info": {
   "codemirror_mode": {
    "name": "ipython",
    "version": 2
   },
   "file_extension": ".py",
   "mimetype": "text/x-python",
   "name": "python",
   "nbconvert_exporter": "python",
   "pygments_lexer": "ipython2",
   "version": "2.7.6"
  }
 },
 "nbformat": 4,
 "nbformat_minor": 0
}
