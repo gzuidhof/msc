{
 "cells": [
  {
   "cell_type": "markdown",
   "metadata": {
    "collapsed": true
   },
   "source": [
    "First we will train the *vgg networks*, on which we can later stack another network. "
   ]
  },
  {
   "cell_type": "code",
   "execution_count": 1,
   "metadata": {
    "collapsed": false
   },
   "outputs": [
    {
     "name": "stdout",
     "output_type": "stream",
     "text": [
      "/mnt/rdstorage1/Userdata/Guido/msc/notebooks\n"
     ]
    }
   ],
   "source": [
    "import os\n",
    "cur_dir = os.getcwd()\n",
    "print cur_dir"
   ]
  },
  {
   "cell_type": "code",
   "execution_count": null,
   "metadata": {
    "collapsed": false
   },
   "outputs": [],
   "source": [
    "# %load {cur_dir}/../config/2class_wide_resnet.ini"
   ]
  },
  {
   "cell_type": "code",
   "execution_count": 3,
   "metadata": {
    "collapsed": false
   },
   "outputs": [
    {
     "name": "stdout",
     "output_type": "stream",
     "text": [
      "/mnt/rdstorage1/Userdata/Guido/msc/src/sampler\n",
      "Loaded configurations from (in order) ['../../config/default.ini', '../../config/2class_vggnet.ini', '../../config/hardgreip.ini']\n",
      "--------------------\n",
      "N CLASSES: 2\n",
      "DATA FOLDER: /mnt/resfilsp10/pathology/Userdata/babak/Dataset/DL_Aug/CroppedAnnotations_Revisited3classL1\n",
      "--------------------\n",
      "\n",
      "\n",
      "Now preparing sampler train...\n",
      "Out file: /tmp/guido/samplers/samplers_train_224x224_nclass_2.pkl.gz\n",
      "Amount per class (total): 5097 1087 2307\n",
      "Subsets: (None, None, None)\n",
      "100%|███████████████████████████████████████| 8491/8491 [08:51<00:00, 15.98it/s]\n",
      "Now saving to file (will take a while)..\n",
      "\n",
      "\n",
      "Now preparing sampler train_mini...\n",
      "Out file: /tmp/guido/samplers/samplers_train_mini_224x224_nclass_2.pkl.gz\n",
      "Amount per class (total): 5097 1087 2307\n",
      "Subsets: (30, 30, 30)\n",
      "100%|███████████████████████████████████████████| 90/90 [00:04<00:00, 20.96it/s]\n",
      "Now saving to file (will take a while)..\n",
      "\n",
      "\n",
      "Now preparing sampler validation...\n",
      "Out file: /tmp/guido/samplers/samplers_validation_224x224_nclass_2.pkl.gz\n",
      "Amount per class (total): 795 151 432\n",
      "Subsets: (None, None, None)\n",
      "100%|███████████████████████████████████████| 1378/1378 [01:31<00:00, 15.11it/s]\n",
      "Now saving to file (will take a while)..\n",
      "\n",
      "\n",
      "Now preparing sampler validation_mini...\n",
      "Out file: /tmp/guido/samplers/samplers_validation_mini_224x224_nclass_2.pkl.gz\n",
      "Amount per class (total): 795 151 432\n",
      "Subsets: (30, 30, 30)\n",
      "100%|███████████████████████████████████████████| 90/90 [00:07<00:00, 12.80it/s]\n",
      "Now saving to file (will take a while)..\n",
      "\u001b[0m"
     ]
    }
   ],
   "source": [
    "%cd {cur_dir}/../src/sampler\n",
    "!python wsi_prepare_masks.py 2class_vggnet hardgreip"
   ]
  },
  {
   "cell_type": "code",
   "execution_count": null,
   "metadata": {
    "collapsed": false,
    "scrolled": true
   },
   "outputs": [
    {
     "name": "stdout",
     "output_type": "stream",
     "text": [
      "/mnt/rdstorage1/Userdata/Guido/msc/src\n",
      "Couldn't import dot_parser, loading of dot files will not be possible.\n",
      "Using gpu device 1: GeForce GTX TITAN Z (CNMeM is enabled with initial size: 95.0% of memory, cuDNN 5005)\n",
      "Loaded configurations from (in order) ['/mnt/rdstorage1/Userdata/Guido/msc/src/../config/default.ini', '/mnt/rdstorage1/Userdata/Guido/msc/src/../config/2class_vggnet.ini', '/mnt/rdstorage1/Userdata/Guido/msc/src/../config/hardgreip.ini']\n",
      "OpenCV 2 NOT AVAILABLE, using skimage/scipy.ndimage instead\n",
      "Loading train samplers\n",
      "Loading validation samplers\n"
     ]
    }
   ],
   "source": [
    "%cd {cur_dir}/../src\n",
    "!THEANO_FLAGS=${THEANO_FLAGS},lib.cnmem=1 python vgg_trainer.py 2class_vggnet hardgreip"
   ]
  },
  {
   "cell_type": "code",
   "execution_count": null,
   "metadata": {
    "collapsed": false
   },
   "outputs": [],
   "source": [
    "%load ../config/3class_wide_resnet.ini umbriel"
   ]
  },
  {
   "cell_type": "code",
   "execution_count": null,
   "metadata": {
    "collapsed": false
   },
   "outputs": [],
   "source": [
    "%cd {cur_dir}/../src/sampler\n",
    "!python wsi_prepare_masks.py 3class_wide_resnet umbriel"
   ]
  },
  {
   "cell_type": "code",
   "execution_count": null,
   "metadata": {
    "collapsed": false,
    "scrolled": true
   },
   "outputs": [],
   "source": [
    "%cd {cur_dir}/../src\n",
    "!python resnet_trainer.py 3class_wide_resnet umbriel"
   ]
  },
  {
   "cell_type": "code",
   "execution_count": null,
   "metadata": {
    "collapsed": true
   },
   "outputs": [],
   "source": []
  }
 ],
 "metadata": {
  "kernelspec": {
   "display_name": "Python 2",
   "language": "python",
   "name": "python2"
  },
  "language_info": {
   "codemirror_mode": {
    "name": "ipython",
    "version": 2
   },
   "file_extension": ".py",
   "mimetype": "text/x-python",
   "name": "python",
   "nbconvert_exporter": "python",
   "pygments_lexer": "ipython2",
   "version": "2.7.6"
  }
 },
 "nbformat": 4,
 "nbformat_minor": 0
}
