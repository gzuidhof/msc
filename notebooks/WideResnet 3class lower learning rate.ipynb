{
 "cells": [
  {
   "cell_type": "markdown",
   "metadata": {
    "collapsed": true
   },
   "source": [
    "First we will train the *wide residual networks*, on which we can later stack another network. "
   ]
  },
  {
   "cell_type": "code",
   "execution_count": 1,
   "metadata": {
    "collapsed": false
   },
   "outputs": [
    {
     "name": "stdout",
     "output_type": "stream",
     "text": [
      "/mnt/rdstorage1/Userdata/Guido/msc/notebooks\n"
     ]
    }
   ],
   "source": [
    "import os\n",
    "cur_dir = os.getcwd()\n",
    "print cur_dir"
   ]
  },
  {
   "cell_type": "code",
   "execution_count": null,
   "metadata": {
    "collapsed": false
   },
   "outputs": [],
   "source": [
    "# %load {cur_dir}/../config/2class_wide_resnet.ini"
   ]
  },
  {
   "cell_type": "code",
   "execution_count": null,
   "metadata": {
    "collapsed": false
   },
   "outputs": [
    {
     "name": "stdout",
     "output_type": "stream",
     "text": [
      "/mnt/rdstorage1/Userdata/Guido/msc/src/sampler\n",
      "Loaded configurations from (in order) ['../../config/default.ini', '../../config/3class_wide_resnet_llr.ini']\n",
      "--------------------\n",
      "N CLASSES: 3\n",
      "DATA FOLDER: /mnt/diskB/babak/dataset/CroppedAnnotations_Revisited3classL1\n",
      "--------------------\n",
      "\n",
      "\n",
      "Now preparing sampler train...\n",
      "Out file: /mnt/diskB/guido/samplers/samplers_train_224x224_nclass_3.pkl.gz\n",
      "Amount per class (total): 5097 1087 2307\n",
      "Subsets: (None, None, None)\n",
      " 21%|████████▍                              | 1824/8491 [01:51<08:52, 12.52it/s]"
     ]
    }
   ],
   "source": [
    "%cd {cur_dir}/../src/sampler\n",
    "!python wsi_prepare_masks.py 3class_wide_resnet_llr"
   ]
  },
  {
   "cell_type": "code",
   "execution_count": null,
   "metadata": {
    "collapsed": false,
    "scrolled": true
   },
   "outputs": [],
   "source": [
    "%cd {cur_dir}/../src\n",
    "!THEANO_FLAGS=${THEANO_FLAGS},lib.cnmem=1 python resnet_trainer.py 3class_wide_resnet_llr"
   ]
  },
  {
   "cell_type": "code",
   "execution_count": null,
   "metadata": {
    "collapsed": false
   },
   "outputs": [],
   "source": []
  },
  {
   "cell_type": "code",
   "execution_count": null,
   "metadata": {
    "collapsed": false
   },
   "outputs": [],
   "source": []
  },
  {
   "cell_type": "code",
   "execution_count": null,
   "metadata": {
    "collapsed": false,
    "scrolled": true
   },
   "outputs": [],
   "source": []
  },
  {
   "cell_type": "code",
   "execution_count": null,
   "metadata": {
    "collapsed": true
   },
   "outputs": [],
   "source": []
  }
 ],
 "metadata": {
  "kernelspec": {
   "display_name": "Python 2",
   "language": "python",
   "name": "python2"
  },
  "language_info": {
   "codemirror_mode": {
    "name": "ipython",
    "version": 2
   },
   "file_extension": ".py",
   "mimetype": "text/x-python",
   "name": "python",
   "nbconvert_exporter": "python",
   "pygments_lexer": "ipython2",
   "version": "2.7.6"
  }
 },
 "nbformat": 4,
 "nbformat_minor": 0
}
