{
 "cells": [
  {
   "cell_type": "code",
   "execution_count": 1,
   "metadata": {
    "collapsed": false
   },
   "outputs": [
    {
     "name": "stdout",
     "output_type": "stream",
     "text": [
      "Loaded configurations from (in order) ['../src/../config/default.ini', '../src/../config/notebook.ini']\n",
      "Loaded configurations from (in order) ['../config/default.ini', '../config/stacked.ini', '../config/titania_stacked.ini']\n",
      "Couldn't import dot_parser, loading of dot files will not be possible.\n"
     ]
    },
    {
     "name": "stderr",
     "output_type": "stream",
     "text": [
      "Using gpu device 3: GeForce GTX TITAN X (CNMeM is disabled, cuDNN 5005)\n"
     ]
    },
    {
     "name": "stdout",
     "output_type": "stream",
     "text": [
      "OpenCV 2 NOT AVAILABLE, using skimage/scipy.ndimage instead\n"
     ]
    }
   ],
   "source": [
    "from __future__ import division\n",
    "import sys\n",
    "sys.path.append('../src')\n",
    "import params\n",
    "import numpy as np\n",
    "import os\n",
    "from tqdm import tqdm\n",
    "\n",
    "model_folder = '../models/'\n",
    "\n",
    "model_filename = '1472001110_stacked/1472001110_stacked_epoch224.npz'\n",
    "model_path = os.path.join(model_folder, model_filename)\n",
    "\n",
    "params.params = params.Params(['../config/default.ini'] + \n",
    "                              ['../config/stacked.ini', '../config/titania_stacked.ini'])\n",
    "from params import params as P\n",
    "import theano\n",
    "import theano.tensor as T\n",
    "import lasagne\n",
    "import resnet\n",
    "\n",
    "import patch_sampling\n",
    "from cparallel import ContinuousParallelBatchIterator\n"
   ]
  },
  {
   "cell_type": "code",
   "execution_count": 2,
   "metadata": {
    "collapsed": false
   },
   "outputs": [
    {
     "name": "stdout",
     "output_type": "stream",
     "text": [
      "Loading train samplers\n",
      "Loading validation samplers\n",
      "Loading samplers took 41.1890621185 seconds.\n"
     ]
    }
   ],
   "source": [
    "input_var = T.tensor4('inputs')\n",
    "train_generator, validation_generator = patch_sampling.prepare_custom_sampler(mini_subset=False, override_cache_size=1)"
   ]
  },
  {
   "cell_type": "code",
   "execution_count": 3,
   "metadata": {
    "collapsed": false
   },
   "outputs": [],
   "source": [
    "# DEFINE AND LOAD NETWORK\n",
    "\n",
    "\n",
    "input_var = T.tensor4('inputs')\n",
    "target_var = T.ivector('targets')\n",
    "\n",
    "net = resnet.ResNet_FullPre_Wide(input_var, 4, 2)\n",
    "all_layers = lasagne.layers.get_all_layers(net)\n",
    "net = all_layers[-3]\n",
    "net = resnet.ResNet_Stacked(net)\n",
    "\n",
    "with np.load(model_path) as f:\n",
    "    param_values = [f['arr_%d' % i] for i in range(len(f.files))]\n",
    "\n",
    "lasagne.layers.set_all_param_values(net, param_values)"
   ]
  },
  {
   "cell_type": "code",
   "execution_count": 4,
   "metadata": {
    "collapsed": false,
    "scrolled": true
   },
   "outputs": [],
   "source": [
    "predict_fn = resnet.define_predict(net, input_var, target_var)"
   ]
  },
  {
   "cell_type": "code",
   "execution_count": 5,
   "metadata": {
    "collapsed": false
   },
   "outputs": [],
   "source": [
    "batch_size = 50\n",
    "X = [batch_size]*1000\n",
    "\n",
    "batch_gen = ContinuousParallelBatchIterator(validation_generator, \n",
    "                                            ordered=False, batch_size=1, multiprocess=False, n_producers=2)\n",
    "batch_gen.append(X)"
   ]
  },
  {
   "cell_type": "code",
   "execution_count": null,
   "metadata": {
    "collapsed": true
   },
   "outputs": [],
   "source": [
    "all_inputs = []\n",
    "all_targets = []\n",
    "all_filenames = []\n",
    "\n",
    "all_loss = []\n",
    "all_pred = []\n",
    "all_binary_pred = []\n"
   ]
  },
  {
   "cell_type": "code",
   "execution_count": null,
   "metadata": {
    "collapsed": false
   },
   "outputs": [
    {
     "name": "stderr",
     "output_type": "stream",
     "text": [
      "  2%|▎         | 1/40 [00:14<09:42, 14.92s/it]"
     ]
    }
   ],
   "source": [
    "for i, batch in enumerate(tqdm(batch_gen(40))):\n",
    "    inputs, targets, filenames = batch\n",
    "    \n",
    "    loss, acc, pred_binary, pred = predict_fn(inputs, targets)\n",
    "    \n",
    "    all_inputs += list(inputs)\n",
    "    all_targets += list(targets)\n",
    "    all_filenames += list(filenames)\n",
    "    \n",
    "    all_loss += list(loss)\n",
    "    all_pred += list(pred)\n",
    "    all_binary_pred += list(pred_binary)\n",
    "    "
   ]
  },
  {
   "cell_type": "code",
   "execution_count": null,
   "metadata": {
    "collapsed": false,
    "scrolled": true
   },
   "outputs": [],
   "source": [
    "misclassified = np.array(all_binary_pred) != np.array(all_targets)\n",
    "print \"Amount of wrong labels\", np.sum(misclassified), \"out of\", len(all_inputs)\n",
    "\n",
    "wrong_images = np.array(all_inputs)[misclassified]\n",
    "wrong_labels = np.array(all_binary_pred)[misclassified]\n",
    "actual_labels = np.array(all_targets)[misclassified]\n",
    "losses = np.array(all_loss)[misclassified]\n",
    "\n",
    "wrong_images = util.unzero_center(wrong_images, P.MEAN_PIXEL)\n",
    "wrong_images = wrong_images.transpose(0,2,3,1)\n",
    "\n",
    "#Order by loss\n",
    "sorted_order = np.argsort(losses)[::-1]\n",
    "\n",
    "wrong_images = wrong_images[sorted_order]\n",
    "wrong_labels = wrong_labels[sorted_order]\n",
    "actual_labels = actual_labels[sorted_order]\n",
    "losses = losses[sorted_order]"
   ]
  },
  {
   "cell_type": "code",
   "execution_count": null,
   "metadata": {
    "collapsed": false
   },
   "outputs": [],
   "source": [
    "%matplotlib inline\n",
    "\n",
    "\n",
    "import matplotlib.pyplot as plt\n",
    "import util\n",
    "from dataset import label_name\n",
    "\n",
    "\n",
    "for plot_number in range(0, len(wrong_images), 16):\n",
    "    \n",
    "    if plot_number//16 >= 2: #Lets not plot too many\n",
    "        break\n",
    "        \n",
    "    f, axarr = plt.subplots(4,4,figsize=(16,16))\n",
    "    \n",
    "    for i in range(min(16, len(wrong_images)-plot_number)):\n",
    "        \n",
    "        x = int(i%4)\n",
    "        y = int(i/4)\n",
    "        \n",
    "        i = plot_number+i\n",
    "        axarr[y,x].imshow(wrong_images[i])\n",
    "        axarr[y,x].set_title(label_name(wrong_labels[i])+\", is actually \" + label_name(actual_labels[i]) + \" \" + str(losses[i]))\n",
    "        axarr[y,x].axis('off')\n",
    "        \n",
    "    plt.subplots_adjust(wspace = -0.2, hspace=0.12)\n",
    "    plt.show()"
   ]
  },
  {
   "cell_type": "code",
   "execution_count": null,
   "metadata": {
    "collapsed": false
   },
   "outputs": [],
   "source": [
    "import sklearn.metrics\n",
    "cm = sklearn.metrics.confusion_matrix(all_targets, all_binary_pred)\n",
    "cm_normalized = cm.astype('float') / cm.sum(axis=1)[:, np.newaxis]\n",
    "\n",
    "label_names = ['Benign', 'DCIS', 'IDC']\n",
    "\n",
    "plt.figure(figsize=(8,8))\n",
    "plt.imshow(cm_normalized, interpolation='nearest')\n",
    "plt.xticks(np.arange(0,3), label_names)\n",
    "plt.yticks(np.arange(0,3), label_names)\n",
    "plt.tight_layout()\n",
    "plt.colorbar()\n",
    "plt.show()\n",
    "\n",
    "cm_normalized\n"
   ]
  },
  {
   "cell_type": "code",
   "execution_count": null,
   "metadata": {
    "collapsed": false
   },
   "outputs": [],
   "source": [
    "# From https://gist.github.com/zachguo/10296432\n",
    "def print_cm(cm, labels, hide_zeroes=False, hide_diagonal=False, hide_threshold=None):\n",
    "    \"\"\"pretty print for confusion matrixes\"\"\"\n",
    "    columnwidth = max([len(x) for x in labels]+[7]) # 7 is value length\n",
    "    empty_cell = \" \" * columnwidth\n",
    "    # Print header\n",
    "    print \"    \" + empty_cell,\n",
    "    for label in labels: \n",
    "        print \"%{0}s\".format(columnwidth) % label,\n",
    "    print\n",
    "    # Print rows\n",
    "    for i, label1 in enumerate(labels):\n",
    "        print \"    %{0}s\".format(columnwidth) % label1,\n",
    "        for j in range(len(labels)): \n",
    "            cell = \"%{0}.3f\".format(columnwidth) % cm[i, j]\n",
    "            if hide_zeroes:\n",
    "                cell = cell if float(cm[i, j]) != 0 else empty_cell\n",
    "            if hide_diagonal:\n",
    "                cell = cell if i != j else empty_cell\n",
    "            if hide_threshold:\n",
    "                cell = cell if cm[i, j] > hide_threshold else empty_cell\n",
    "            print cell,\n",
    "        print \n",
    "    \n",
    "print_cm(cm_normalized, label_names)"
   ]
  },
  {
   "cell_type": "code",
   "execution_count": null,
   "metadata": {
    "collapsed": true
   },
   "outputs": [],
   "source": []
  }
 ],
 "metadata": {
  "kernelspec": {
   "display_name": "Python 2",
   "language": "python",
   "name": "python2"
  },
  "language_info": {
   "codemirror_mode": {
    "name": "ipython",
    "version": 2
   },
   "file_extension": ".py",
   "mimetype": "text/x-python",
   "name": "python",
   "nbconvert_exporter": "python",
   "pygments_lexer": "ipython2",
   "version": "2.7.6"
  }
 },
 "nbformat": 4,
 "nbformat_minor": 0
}
