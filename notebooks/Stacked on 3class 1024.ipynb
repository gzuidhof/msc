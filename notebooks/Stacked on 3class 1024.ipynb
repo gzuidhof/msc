{
 "cells": [
  {
   "cell_type": "markdown",
   "metadata": {
    "collapsed": true
   },
   "source": [
    "First we will train the *wide residual networks*, on which we can later stack another network. "
   ]
  },
  {
   "cell_type": "code",
   "execution_count": 1,
   "metadata": {
    "collapsed": false
   },
   "outputs": [],
   "source": [
    "import os\n",
    "cur_dir = os.getcwd()"
   ]
  },
  {
   "cell_type": "code",
   "execution_count": 2,
   "metadata": {
    "collapsed": false
   },
   "outputs": [],
   "source": [
    "#%load /mnt/rdstorage1/Userdata/Guido/msc/notebooks/../config/stack_on_2class_768.ini"
   ]
  },
  {
   "cell_type": "code",
   "execution_count": 3,
   "metadata": {
    "collapsed": false,
    "scrolled": true
   },
   "outputs": [
    {
     "name": "stdout",
     "output_type": "stream",
     "text": [
      "/mnt/rdstorage1/Userdata/Guido/msc/src/sampler\n",
      "Loaded configurations from (in order) ['../../config/default.ini', '../../config/stack_on_3class_768.ini', '../../config/umbriel_stack.ini']\n",
      "--------------------\n",
      "N CLASSES: 3\n",
      "DATA FOLDER: /mnt/diskA/guido/Level1_LargePatch_Aug17\n",
      "--------------------\n",
      "\n",
      "\n",
      "Now preparing sampler train...\n",
      "Out file: /mnt/diskA/guido/samplers/samplers_train_768x768_nclass_3.pkl.gz\n",
      "Amount per class (total): 5097 1092 2307\n",
      "Subsets: (None, None, None)\n",
      "100%|███████████████████████████████████████| 8496/8496 [08:31<00:00, 16.62it/s]\n",
      "Now saving to file (will take a while)..\n",
      "\n",
      "\n",
      "Now preparing sampler train_mini...\n",
      "Out file: /mnt/diskA/guido/samplers/samplers_train_mini_768x768_nclass_3.pkl.gz\n",
      "Amount per class (total): 5097 1092 2307\n",
      "Subsets: (30, 30, 30)\n",
      "100%|███████████████████████████████████████████| 90/90 [00:06<00:00, 14.93it/s]\n",
      "Now saving to file (will take a while)..\n",
      "\n",
      "\n",
      "Now preparing sampler validation...\n",
      "Out file: /mnt/diskA/guido/samplers/samplers_validation_768x768_nclass_3.pkl.gz\n",
      "Amount per class (total): 795 151 432\n",
      "Subsets: (None, None, None)\n",
      "100%|███████████████████████████████████████| 1378/1378 [01:25<00:00, 16.10it/s]\n",
      "Now saving to file (will take a while)..\n",
      "\n",
      "\n",
      "Now preparing sampler validation_mini...\n",
      "Out file: /mnt/diskA/guido/samplers/samplers_validation_mini_768x768_nclass_3.pkl.gz\n",
      "Amount per class (total): 795 151 432\n",
      "Subsets: (30, 30, 30)\n",
      "100%|███████████████████████████████████████████| 90/90 [00:05<00:00, 17.44it/s]\n",
      "Now saving to file (will take a while)..\n",
      "\u001b[0m"
     ]
    }
   ],
   "source": [
    "%cd {cur_dir}/../src/sampler\n",
    "!python wsi_prepare_masks.py stack_on_3class_1024 umbriel_stack"
   ]
  },
  {
   "cell_type": "code",
   "execution_count": 12,
   "metadata": {
    "collapsed": false,
    "scrolled": true
   },
   "outputs": [
    {
     "name": "stdout",
     "output_type": "stream",
     "text": [
      "/mnt/rdstorage1/Userdata/Guido/msc/src\n",
      "Couldn't import dot_parser, loading of dot files will not be possible.\n",
      "Using gpu device 0: GeForce GTX TITAN X (CNMeM is enabled with initial size: 95.0% of memory, cuDNN 5005)\n",
      "Loaded configurations from (in order) ['/mnt/rdstorage1/Userdata/Guido/msc/src/../config/default.ini', '/mnt/rdstorage1/Userdata/Guido/msc/src/../config/stack_on_3class_768.ini', '/mnt/rdstorage1/Userdata/Guido/msc/src/../config/umbriel_stack.ini']\n",
      "OpenCV 2 NOT AVAILABLE, using skimage/scipy.ndimage instead\n",
      "[info]\n",
      "experiment = WRN stacked on 3 class\n",
      "name = stack_on_3class_768\n",
      "config_file = ['/mnt/rdstorage1/Userdata/Guido/msc/src/../config/default.ini', '/mnt/rdstorage1/Userdata/Guido/msc/src/../config/stack_on_3class_768.ini', '/mnt/rdstorage1/Userdata/Guido/msc/src/../config/umbriel_stack.ini']\n",
      "model_id = 1475594591_stack_on_3class_768\n",
      "\n",
      "[dataset]\n",
      "pixels = 768\n",
      "n_classes = 3\n",
      "stack_on_n_classes = 3\n",
      "channels = 3\n",
      "data_level = 0\n",
      "subset = None\n",
      "subset_train = 0\n",
      "subset_validation = 0\n",
      "filenames_train = None\n",
      "filenames_validation = None :NOT USED\n",
      "data_folder = /mnt/diskA/guido/Level1_LargePatch_Aug17\n",
      "sampler_folder = /mnt/diskA/guido/samplers\n",
      "\n",
      "[network]\n",
      "architecture = resnet\n",
      "input_size = 768\n",
      "depth = 4\n",
      "branching_factor = 2\n",
      "batch_normalization = True\n",
      "batch_normalization_alpha = 0.1\n",
      "dropout = 0.0\n",
      "spatial_dropout = 0\n",
      "gaussian_noise = 0\n",
      "\n",
      "[updates]\n",
      "optimization = -\n",
      "learning_rate = 0.005\n",
      "momentum = 0.9\n",
      "l2_lambda = 0.0000\n",
      "batch_size_train = 18\n",
      "batch_size_validation = 40\n",
      "n_epochs = 500\n",
      "milestone_acc_epsilon = 0.0005\n",
      "milestone_tollerance = 8\n",
      "milestone_inc_factor = 1.2\n",
      "lr_decay = 0.2\n",
      "epoch_samples_train = 100\n",
      "epoch_samples_validation = 75\n",
      "\n",
      "[preprocessing]\n",
      "random_crop = 0\n",
      "\n",
      "[normalization]\n",
      "zero_center = True\n",
      "mean_pixel = 0.79704494411170501 0.61885510553571943 0.71202771615037175\n",
      "\n",
      "[augmentation]\n",
      "augment = True\n",
      "flip = True\n",
      "zoom = 0\n",
      "rotation = 0\n",
      "rotation_90 = True\n",
      "translation = 0\n",
      "hue = 0.075\n",
      "saturation = 0.075\n",
      "value = 0.0\n",
      "\n",
      "[misc]\n",
      "multiprocess_load_augmentation = True\n",
      "n_workers_load_augmentation = 4\n",
      "save_every_n_epoch = 5\n",
      "\n",
      "\n",
      "Defining network\n",
      "Loading model\n",
      "Model  resnet_3class using folder ../models/1475592069_resnet_3class_llr\n",
      "../models/1475592069_resnet_3class_llr/1475592069_resnet_3class_llr_epoch120.npz\n",
      "Model  resnet_3class using folder ../models/1475553532_resnet_3class_llr\n",
      "../models/1475553532_resnet_3class_llr/1475553532_resnet_3class_llr_epoch120.npz\n",
      "Model  resnet_3class using folder ../models/1475553327_resnet_3class_llr\n",
      "../models/1475553327_resnet_3class_llr/1475553327_resnet_3class_llr_epoch120.npz\n",
      "Model  resnet_3class using folder ../models/1475553152_resnet_3class_llr\n",
      "../models/1475553152_resnet_3class_llr/1475553152_resnet_3class_llr_epoch120.npz\n",
      "Model  resnet_3class using folder ../models/1475289400_resnet_3class\n",
      "../models/1475289400_resnet_3class/1475289400_resnet_3class_epoch120.npz\n",
      "Found model ../models/1475289400_resnet_3class/1475289400_resnet_3class_epoch120.npz\n",
      "Stacking on top of ../models/1475289400_resnet_3class/1475289400_resnet_3class_best_epoch90.npz\n",
      "Model file ../models/1475289400_resnet_3class/1475289400_resnet_3class_best_epoch90.npz\n",
      "(None, 192, 12, 12)\n",
      "Compiling network\n",
      "Loading train samplers\n",
      "Loading validation samplers\n",
      "Loading samplers took 38.5033428669 seconds.\n",
      "Learning rate set to 0.005\n",
      "Starting training...\n",
      "100%|█████████████████████████████████████████| 100/100 [09:27<00:00,  4.43s/it]\n",
      "100%|███████████████████████████████████████████| 75/75 [10:49<00:00,  7.91s/it]\n",
      "Epoch 0 of 500 took 1217.659s\n",
      "                Loss:\t 0.535651\t0.526112\n",
      "                  L2:\t 0.000000\t0.000000\n",
      "            Accuracy:\t 0.802222\t0.797667\n",
      "      BinaryAccuracy:\t 0.862778\t0.876333\n",
      "  Specificity_class1:\t 0.942226\t0.944954\n",
      "    Precision_class1:\t 0.866667\t0.849372\n",
      "       Recall_class1:\t 0.709470\t0.586705\n",
      "  Specificity_class2:\t 0.890164\t0.876636\n",
      "    Precision_class2:\t 0.787975\t0.795492\n",
      "       Recall_class2:\t 0.858621\t0.939842\n",
      "train_val, best 0.802222218066 0.0\n",
      "val_val, best 0.797666664918 0\n",
      "0 0\n",
      "Saving model\n",
      "Learning rate will be kept at its current value for at least the next 8.0 epochs\n",
      "Saving model\n",
      "\n",
      "\n",
      " 49%|████████████████████▌                     | 49/100 [04:27<03:45,  4.43s/it]"
     ]
    },
    {
     "ename": "ValueError",
     "evalue": "I/O operation on closed file",
     "output_type": "error",
     "traceback": [
      "\u001b[1;31m---------------------------------------------------------------------------\u001b[0m",
      "\u001b[1;31mValueError\u001b[0m                                Traceback (most recent call last)",
      "\u001b[1;32m<ipython-input-12-4fc418e28895>\u001b[0m in \u001b[0;36m<module>\u001b[1;34m()\u001b[0m\n\u001b[0;32m      1\u001b[0m \u001b[0mget_ipython\u001b[0m\u001b[1;33m(\u001b[0m\u001b[1;33m)\u001b[0m\u001b[1;33m.\u001b[0m\u001b[0mmagic\u001b[0m\u001b[1;33m(\u001b[0m\u001b[1;34mu'cd {cur_dir}/../src'\u001b[0m\u001b[1;33m)\u001b[0m\u001b[1;33m\u001b[0m\u001b[0m\n\u001b[1;32m----> 2\u001b[1;33m \u001b[0mget_ipython\u001b[0m\u001b[1;33m(\u001b[0m\u001b[1;33m)\u001b[0m\u001b[1;33m.\u001b[0m\u001b[0msystem\u001b[0m\u001b[1;33m(\u001b[0m\u001b[1;34mu'THEANO_FLAGS=${THEANO_FLAGS},lib.cnmem=1 python resnet_trainer_stacked.py stack_on_3class_768 umbriel_stack'\u001b[0m\u001b[1;33m)\u001b[0m\u001b[1;33m\u001b[0m\u001b[0m\n\u001b[0m",
      "\u001b[1;32m/usr/local/lib/python2.7/dist-packages/IPython/core/interactiveshell.pyc\u001b[0m in \u001b[0;36msystem_piped\u001b[1;34m(self, cmd)\u001b[0m\n\u001b[0;32m   2212\u001b[0m         \u001b[1;31m# a non-None value would trigger :func:`sys.displayhook` calls.\u001b[0m\u001b[1;33m\u001b[0m\u001b[1;33m\u001b[0m\u001b[0m\n\u001b[0;32m   2213\u001b[0m         \u001b[1;31m# Instead, we store the exit_code in user_ns.\u001b[0m\u001b[1;33m\u001b[0m\u001b[1;33m\u001b[0m\u001b[0m\n\u001b[1;32m-> 2214\u001b[1;33m         \u001b[0mself\u001b[0m\u001b[1;33m.\u001b[0m\u001b[0muser_ns\u001b[0m\u001b[1;33m[\u001b[0m\u001b[1;34m'_exit_code'\u001b[0m\u001b[1;33m]\u001b[0m \u001b[1;33m=\u001b[0m \u001b[0msystem\u001b[0m\u001b[1;33m(\u001b[0m\u001b[0mself\u001b[0m\u001b[1;33m.\u001b[0m\u001b[0mvar_expand\u001b[0m\u001b[1;33m(\u001b[0m\u001b[0mcmd\u001b[0m\u001b[1;33m,\u001b[0m \u001b[0mdepth\u001b[0m\u001b[1;33m=\u001b[0m\u001b[1;36m1\u001b[0m\u001b[1;33m)\u001b[0m\u001b[1;33m)\u001b[0m\u001b[1;33m\u001b[0m\u001b[0m\n\u001b[0m\u001b[0;32m   2215\u001b[0m \u001b[1;33m\u001b[0m\u001b[0m\n\u001b[0;32m   2216\u001b[0m     \u001b[1;32mdef\u001b[0m \u001b[0msystem_raw\u001b[0m\u001b[1;33m(\u001b[0m\u001b[0mself\u001b[0m\u001b[1;33m,\u001b[0m \u001b[0mcmd\u001b[0m\u001b[1;33m)\u001b[0m\u001b[1;33m:\u001b[0m\u001b[1;33m\u001b[0m\u001b[0m\n",
      "\u001b[1;32m/usr/local/lib/python2.7/dist-packages/IPython/utils/_process_posix.pyc\u001b[0m in \u001b[0;36msystem\u001b[1;34m(self, cmd)\u001b[0m\n\u001b[0;32m    161\u001b[0m                 \u001b[1;31m# know whether we've finished (if we matched EOF) or not\u001b[0m\u001b[1;33m\u001b[0m\u001b[1;33m\u001b[0m\u001b[0m\n\u001b[0;32m    162\u001b[0m                 \u001b[0mres_idx\u001b[0m \u001b[1;33m=\u001b[0m \u001b[0mchild\u001b[0m\u001b[1;33m.\u001b[0m\u001b[0mexpect_list\u001b[0m\u001b[1;33m(\u001b[0m\u001b[0mpatterns\u001b[0m\u001b[1;33m,\u001b[0m \u001b[0mself\u001b[0m\u001b[1;33m.\u001b[0m\u001b[0mread_timeout\u001b[0m\u001b[1;33m)\u001b[0m\u001b[1;33m\u001b[0m\u001b[0m\n\u001b[1;32m--> 163\u001b[1;33m                 \u001b[1;32mprint\u001b[0m\u001b[1;33m(\u001b[0m\u001b[0mchild\u001b[0m\u001b[1;33m.\u001b[0m\u001b[0mbefore\u001b[0m\u001b[1;33m[\u001b[0m\u001b[0mout_size\u001b[0m\u001b[1;33m:\u001b[0m\u001b[1;33m]\u001b[0m\u001b[1;33m.\u001b[0m\u001b[0mdecode\u001b[0m\u001b[1;33m(\u001b[0m\u001b[0menc\u001b[0m\u001b[1;33m,\u001b[0m \u001b[1;34m'replace'\u001b[0m\u001b[1;33m)\u001b[0m\u001b[1;33m,\u001b[0m \u001b[0mend\u001b[0m\u001b[1;33m=\u001b[0m\u001b[1;34m''\u001b[0m\u001b[1;33m)\u001b[0m\u001b[1;33m\u001b[0m\u001b[0m\n\u001b[0m\u001b[0;32m    164\u001b[0m                 \u001b[0mflush\u001b[0m\u001b[1;33m(\u001b[0m\u001b[1;33m)\u001b[0m\u001b[1;33m\u001b[0m\u001b[0m\n\u001b[0;32m    165\u001b[0m                 \u001b[1;32mif\u001b[0m \u001b[0mres_idx\u001b[0m\u001b[1;33m==\u001b[0m\u001b[0mEOF_index\u001b[0m\u001b[1;33m:\u001b[0m\u001b[1;33m\u001b[0m\u001b[0m\n",
      "\u001b[1;32m/usr/local/lib/python2.7/dist-packages/ipykernel/iostream.pyc\u001b[0m in \u001b[0;36mwrite\u001b[1;34m(self, string)\u001b[0m\n\u001b[0;32m    315\u001b[0m \u001b[1;33m\u001b[0m\u001b[0m\n\u001b[0;32m    316\u001b[0m             \u001b[0mis_child\u001b[0m \u001b[1;33m=\u001b[0m \u001b[1;33m(\u001b[0m\u001b[1;32mnot\u001b[0m \u001b[0mself\u001b[0m\u001b[1;33m.\u001b[0m\u001b[0m_is_master_process\u001b[0m\u001b[1;33m(\u001b[0m\u001b[1;33m)\u001b[0m\u001b[1;33m)\u001b[0m\u001b[1;33m\u001b[0m\u001b[0m\n\u001b[1;32m--> 317\u001b[1;33m             \u001b[0mself\u001b[0m\u001b[1;33m.\u001b[0m\u001b[0m_buffer\u001b[0m\u001b[1;33m.\u001b[0m\u001b[0mwrite\u001b[0m\u001b[1;33m(\u001b[0m\u001b[0mstring\u001b[0m\u001b[1;33m)\u001b[0m\u001b[1;33m\u001b[0m\u001b[0m\n\u001b[0m\u001b[0;32m    318\u001b[0m             \u001b[1;32mif\u001b[0m \u001b[0mis_child\u001b[0m\u001b[1;33m:\u001b[0m\u001b[1;33m\u001b[0m\u001b[0m\n\u001b[0;32m    319\u001b[0m                 \u001b[1;31m# newlines imply flush in subprocesses\u001b[0m\u001b[1;33m\u001b[0m\u001b[1;33m\u001b[0m\u001b[0m\n",
      "\u001b[1;31mValueError\u001b[0m: I/O operation on closed file"
     ]
    }
   ],
   "source": [
    "%cd {cur_dir}/../src\n",
    "!THEANO_FLAGS=${THEANO_FLAGS},lib.cnmem=1 python resnet_trainer_stacked.py stack_on_3class_1024 umbriel_stack"
   ]
  },
  {
   "cell_type": "code",
   "execution_count": null,
   "metadata": {
    "collapsed": false
   },
   "outputs": [],
   "source": []
  },
  {
   "cell_type": "code",
   "execution_count": null,
   "metadata": {
    "collapsed": false
   },
   "outputs": [],
   "source": []
  },
  {
   "cell_type": "code",
   "execution_count": null,
   "metadata": {
    "collapsed": false,
    "scrolled": true
   },
   "outputs": [],
   "source": []
  },
  {
   "cell_type": "code",
   "execution_count": null,
   "metadata": {
    "collapsed": true
   },
   "outputs": [],
   "source": []
  }
 ],
 "metadata": {
  "kernelspec": {
   "display_name": "Python 2",
   "language": "python",
   "name": "python2"
  },
  "language_info": {
   "codemirror_mode": {
    "name": "ipython",
    "version": 2
   },
   "file_extension": ".py",
   "mimetype": "text/x-python",
   "name": "python",
   "nbconvert_exporter": "python",
   "pygments_lexer": "ipython2",
   "version": "2.7.6"
  }
 },
 "nbformat": 4,
 "nbformat_minor": 0
}
